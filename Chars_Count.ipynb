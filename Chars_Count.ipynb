{
  "nbformat": 4,
  "nbformat_minor": 0,
  "metadata": {
    "colab": {
      "name": "Chars_Count.ipynb",
      "provenance": [],
      "authorship_tag": "ABX9TyOSxPvyxA3vYSWE4l2CZKJ4",
      "include_colab_link": true
    },
    "kernelspec": {
      "name": "python3",
      "display_name": "Python 3"
    },
    "language_info": {
      "name": "python"
    }
  },
  "cells": [
    {
      "cell_type": "markdown",
      "metadata": {
        "id": "view-in-github",
        "colab_type": "text"
      },
      "source": [
        "<a href=\"https://colab.research.google.com/github/ayse16/Python_Exercises/blob/main/Chars_Count.ipynb\" target=\"_parent\"><img src=\"https://colab.research.google.com/assets/colab-badge.svg\" alt=\"Open In Colab\"/></a>"
      ]
    },
    {
      "cell_type": "markdown",
      "source": [
        "Count the number of each letter in a sentence.\n",
        "\n",
        "input: hippo runs to us!\n",
        "\n",
        "output: {'s': 2, 'r': 1, 't': 1, 'h': 1, 'n': 1, \n",
        "'i': 1, 'u': 2, 'o': 2, 'p': 2, ' ': 3, '!': 1}"
      ],
      "metadata": {
        "id": "nK-ioZVXQier"
      }
    },
    {
      "cell_type": "code",
      "execution_count": 1,
      "metadata": {
        "colab": {
          "base_uri": "https://localhost:8080/"
        },
        "id": "LTvu1G9nag2v",
        "outputId": "df9f1216-bce6-4b1e-f7d8-cbded41343b1"
      },
      "outputs": [
        {
          "output_type": "execute_result",
          "data": {
            "text/plain": [
              "{' ': 3,\n",
              " '!': 1,\n",
              " 'h': 1,\n",
              " 'i': 1,\n",
              " 'n': 1,\n",
              " 'o': 2,\n",
              " 'p': 2,\n",
              " 'r': 1,\n",
              " 's': 2,\n",
              " 't': 1,\n",
              " 'u': 2}"
            ]
          },
          "metadata": {},
          "execution_count": 1
        }
      ],
      "source": [
        "def count_char(s):\n",
        "  dic = {}\n",
        "  for i in set(s):\n",
        "    dic[i] = s.count(i)\n",
        "  return dic\n",
        "\n",
        "input = \"hippo runs to us!\"\n",
        "count_char(input)   "
      ]
    },
    {
      "cell_type": "code",
      "source": [
        "def count_char1(s):\n",
        "  dic = {}\n",
        "  for i in s:\n",
        "    if i in dic:\n",
        "      dic[i]+=1\n",
        "    else:\n",
        "      dic[i] = 1\n",
        "  return dic\n",
        "\n",
        "input1 = \"hippo runs to us!\"\n",
        "count_char1(input1)   "
      ],
      "metadata": {
        "colab": {
          "base_uri": "https://localhost:8080/"
        },
        "id": "JXXFDr8_d1cT",
        "outputId": "0acaaa07-a8c3-4e97-d5de-da565321460f"
      },
      "execution_count": 3,
      "outputs": [
        {
          "output_type": "execute_result",
          "data": {
            "text/plain": [
              "{' ': 3,\n",
              " '!': 1,\n",
              " 'h': 1,\n",
              " 'i': 1,\n",
              " 'n': 1,\n",
              " 'o': 2,\n",
              " 'p': 2,\n",
              " 'r': 1,\n",
              " 's': 2,\n",
              " 't': 1,\n",
              " 'u': 2}"
            ]
          },
          "metadata": {},
          "execution_count": 3
        }
      ]
    },
    {
      "cell_type": "code",
      "source": [
        ""
      ],
      "metadata": {
        "id": "2f1vi8Hb2zVk"
      },
      "execution_count": null,
      "outputs": []
    }
  ]
}