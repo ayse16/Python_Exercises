{
  "nbformat": 4,
  "nbformat_minor": 0,
  "metadata": {
    "colab": {
      "name": "find_max_num.ipynb",
      "provenance": [],
      "authorship_tag": "ABX9TyMPAtcfH7aeGqh9Cb2tKfIX",
      "include_colab_link": true
    },
    "kernelspec": {
      "name": "python3",
      "display_name": "Python 3"
    },
    "language_info": {
      "name": "python"
    }
  },
  "cells": [
    {
      "cell_type": "markdown",
      "metadata": {
        "id": "view-in-github",
        "colab_type": "text"
      },
      "source": [
        "<a href=\"https://colab.research.google.com/github/ayse16/Python_Exercises/blob/main/find_max_num.ipynb\" target=\"_parent\"><img src=\"https://colab.research.google.com/assets/colab-badge.svg\" alt=\"Open In Colab\"/></a>"
      ]
    },
    {
      "cell_type": "code",
      "execution_count": 3,
      "metadata": {
        "colab": {
          "base_uri": "https://localhost:8080/"
        },
        "id": "uTwZkQ2cBEy8",
        "outputId": "be2e56d9-f434-4b02-d5cd-839d015aa6b8"
      },
      "outputs": [
        {
          "output_type": "stream",
          "name": "stdout",
          "text": [
            "5\n",
            "85\n",
            "1000\n"
          ]
        }
      ],
      "source": [
        "#Find the largest number among the given by the user as input\n",
        "def max_num(*num):\n",
        "  ma = num[0]\n",
        "  for i in num:\n",
        "    if i>ma:\n",
        "      ma = i\n",
        "  return ma    \n",
        "print(max_num(1,2,3,4,5))\n",
        "print(max_num(67,85,19,39))\n",
        "print(max_num(467,120,-4,987,1000))"
      ]
    }
  ]
}