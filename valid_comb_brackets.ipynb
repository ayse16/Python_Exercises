{
  "nbformat": 4,
  "nbformat_minor": 0,
  "metadata": {
    "colab": {
      "name": "valid_comb_brackets.ipynb",
      "provenance": [],
      "authorship_tag": "ABX9TyOEm4MSaMe28b3ffWvMVuJN",
      "include_colab_link": true
    },
    "kernelspec": {
      "name": "python3",
      "display_name": "Python 3"
    },
    "language_info": {
      "name": "python"
    }
  },
  "cells": [
    {
      "cell_type": "markdown",
      "metadata": {
        "id": "view-in-github",
        "colab_type": "text"
      },
      "source": [
        "<a href=\"https://colab.research.google.com/github/ayse16/python/blob/main/valid_comb_brackets.ipynb\" target=\"_parent\"><img src=\"https://colab.research.google.com/assets/colab-badge.svg\" alt=\"Open In Colab\"/></a>"
      ]
    },
    {
      "cell_type": "markdown",
      "source": [
        "Write a function that given a string containing just the characters (, ), {, }, [ and ], determines if the input string is valid or not by using following rules.\n",
        "\n",
        "An input string is valid if:\n",
        "\n",
        "Open brackets must be closed by the same type of brackets.\n",
        "\n",
        "Open brackets must be closed in the correct order.\n",
        "\n",
        "Note that an empty string is also considered valid.\n",
        "\n",
        "Example for user inputs and respective outputs\n",
        "\n",
        "Input           Output\n",
        "------------    ------\n",
        "\"()\"            true\n",
        "\n",
        "\"()[]{}\"        true\n",
        "\n",
        "\"(]\"            false\n",
        "\n",
        "\"([)]\"          false\n",
        "\n",
        "\"{[]}\"          true\n",
        "\n",
        "\"\"              true"
      ],
      "metadata": {
        "id": "LYR_H8DR83zR"
      }
    },
    {
      "cell_type": "code",
      "execution_count": 5,
      "metadata": {
        "colab": {
          "base_uri": "https://localhost:8080/"
        },
        "id": "S1tkG0giM9RI",
        "outputId": "f8880513-8a57-4f22-9145-8cca135c8904"
      },
      "outputs": [
        {
          "output_type": "execute_result",
          "data": {
            "text/plain": [
              "False"
            ]
          },
          "metadata": {},
          "execution_count": 5
        }
      ],
      "source": [
        "def isValid(s):\n",
        "  if len(s) == 0:\n",
        "    return True\n",
        "  while \"()\" in s or \"[]\" in s or \"{}\" in s:\n",
        "    s = s.replace(\"()\", \"\")\n",
        "    s = s.replace(\"[]\", \"\")\n",
        "    s = s.replace(\"{}\", \"\")\n",
        "    if len(s)== 0:\n",
        "      return True\n",
        "  return False\n",
        "\n",
        "isValid(\"(]\")  "
      ]
    },
    {
      "cell_type": "code",
      "source": [
        "def isValid(s):\n",
        " li = []\n",
        " dic = { ']': '[', '}': '{', ')': '('}\n",
        "\n",
        " for char in s:\n",
        "   if char in dic:\n",
        "     if not li or li[-1] != dic[char]:\n",
        "       return False\n",
        "     li.pop()\n",
        "     continue\n",
        "   li.append(char)\n",
        " return not li      \n",
        "\n",
        "isValid(\"\")  "
      ],
      "metadata": {
        "colab": {
          "base_uri": "https://localhost:8080/"
        },
        "id": "eOWYApFvhV8N",
        "outputId": "b0b68639-f1c1-4e83-fc09-ee089fccf767"
      },
      "execution_count": 2,
      "outputs": [
        {
          "output_type": "execute_result",
          "data": {
            "text/plain": [
              "True"
            ]
          },
          "metadata": {},
          "execution_count": 2
        }
      ]
    }
  ]
}