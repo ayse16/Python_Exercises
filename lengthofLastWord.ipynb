{
  "nbformat": 4,
  "nbformat_minor": 0,
  "metadata": {
    "colab": {
      "name": "lengthofLastWord.ipynb",
      "provenance": [],
      "authorship_tag": "ABX9TyP2EPRThprm5U7DBRbdTALP",
      "include_colab_link": true
    },
    "kernelspec": {
      "name": "python3",
      "display_name": "Python 3"
    },
    "language_info": {
      "name": "python"
    }
  },
  "cells": [
    {
      "cell_type": "markdown",
      "metadata": {
        "id": "view-in-github",
        "colab_type": "text"
      },
      "source": [
        "<a href=\"https://colab.research.google.com/github/ayse16/python/blob/main/lengthofLastWord.ipynb\" target=\"_parent\"><img src=\"https://colab.research.google.com/assets/colab-badge.svg\" alt=\"Open In Colab\"/></a>"
      ]
    },
    {
      "cell_type": "code",
      "execution_count": 17,
      "metadata": {
        "colab": {
          "base_uri": "https://localhost:8080/"
        },
        "id": "iksyEMtjdHMP",
        "outputId": "17cda908-4e5c-48b1-fb8a-e29b8905ff34"
      },
      "outputs": [
        {
          "output_type": "stream",
          "name": "stdout",
          "text": [
            "4\n"
          ]
        }
      ],
      "source": [
        "s = \"   fly  me  to the      moon   \"\n",
        "\n",
        "lastWord = s.split()[-1]\n",
        "\n",
        "print(len(lastWord))"
      ]
    }
  ]
}