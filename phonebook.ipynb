{
  "nbformat": 4,
  "nbformat_minor": 0,
  "metadata": {
    "colab": {
      "name": "phonebook.ipynb",
      "provenance": [],
      "authorship_tag": "ABX9TyMuWhITFV3PMmWXFxxzDJWU",
      "include_colab_link": true
    },
    "kernelspec": {
      "name": "python3",
      "display_name": "Python 3"
    },
    "language_info": {
      "name": "python"
    }
  },
  "cells": [
    {
      "cell_type": "markdown",
      "metadata": {
        "id": "view-in-github",
        "colab_type": "text"
      },
      "source": [
        "<a href=\"https://colab.research.google.com/github/ayse16/python/blob/main/phonebook.ipynb\" target=\"_parent\"><img src=\"https://colab.research.google.com/assets/colab-badge.svg\" alt=\"Open In Colab\"/></a>"
      ]
    },
    {
      "cell_type": "code",
      "execution_count": 12,
      "metadata": {
        "colab": {
          "base_uri": "https://localhost:8080/"
        },
        "id": "qdYXKmYQuSJ-",
        "outputId": "3ffdb7ea-f76c-44df-8d07-7bfc4ae2d42f"
      },
      "outputs": [
        {
          "output_type": "stream",
          "name": "stdout",
          "text": [
            "Welcome to the phonebook application\n",
            "1. Find phone number\n",
            "2. Insert a phone number\n",
            "3. Delete a person from the phonebook\n",
            "4. Terminate\n",
            "Select operation on Phonebook App (1/2/3) : 5\n",
            "Not Valid Operation !!!\n",
            "\n",
            "1. Find phone number\n",
            "2. Insert a phone number\n",
            "3. Delete a person from the phonebook\n",
            "4. Terminate\n",
            "Select operation on Phonebook App (1/2/3) : a\n",
            "Not Valid Operation !!!\n",
            "\n",
            "1. Find phone number\n",
            "2. Insert a phone number\n",
            "3. Delete a person from the phonebook\n",
            "4. Terminate\n",
            "Select operation on Phonebook App (1/2/3) : 2\n",
            "Insert name of the person : ayse\n",
            "Insert phone number of the person: 1234\n",
            "Phone number of Ayse is inserted into the phonebook\n",
            "\n",
            "1. Find phone number\n",
            "2. Insert a phone number\n",
            "3. Delete a person from the phonebook\n",
            "4. Terminate\n",
            "Select operation on Phonebook App (1/2/3) : 2\n",
            "Insert name of the person : leyla\n",
            "Insert phone number of the person: 12345\n",
            "Phone number of Leyla is inserted into the phonebook\n",
            "\n",
            "1. Find phone number\n",
            "2. Insert a phone number\n",
            "3. Delete a person from the phonebook\n",
            "4. Terminate\n",
            "Select operation on Phonebook App (1/2/3) : 2\n",
            "Insert name of the person : sacide\n",
            "Insert phone number of the person: 2345\n",
            "Phone number of Sacide is inserted into the phonebook\n",
            "\n",
            "1. Find phone number\n",
            "2. Insert a phone number\n",
            "3. Delete a person from the phonebook\n",
            "4. Terminate\n",
            "Select operation on Phonebook App (1/2/3) : 1\n",
            "Find the phone number of: ayse\n",
            "1234\n",
            "1. Find phone number\n",
            "2. Insert a phone number\n",
            "3. Delete a person from the phonebook\n",
            "4. Terminate\n",
            "Select operation on Phonebook App (1/2/3) : 3\n",
            "Whom to delete from phonebook : ayse\n",
            "Ayse is deleted from the phonebook\n",
            "\n",
            "1. Find phone number\n",
            "2. Insert a phone number\n",
            "3. Delete a person from the phonebook\n",
            "4. Terminate\n",
            "Select operation on Phonebook App (1/2/3) : 4\n",
            "Exiting Phonebook\n"
          ]
        }
      ],
      "source": [
        "print(\"Welcome to the phonebook application\")\n",
        "ph_book = {}\n",
        "while True:\n",
        "  print(\"1. Find phone number\\n\"\n",
        "        \"2. Insert a phone number\\n\"\n",
        "        \"3. Delete a person from the phonebook\\n\"  \n",
        "        \"4. Terminate\" )\n",
        "         \n",
        "  opt = input(\"Select operation on Phonebook App (1/2/3) : \")\n",
        "  if opt == \"1\":\n",
        "    name = input(\"Find the phone number of: \").title() # search name \n",
        "    if name in ph_book:\n",
        "      print(ph_book[name])\n",
        "    else:\n",
        "      print(f\"Couldn't find phone number of {name}\\n\")\n",
        "  elif opt == \"2\":\n",
        "    name = input(\"Insert name of the person : \").title()\n",
        "    number =input(\"Insert phone number of the person: \")\n",
        "    if number.isnumeric():\n",
        "      ph_book[name] = number\n",
        "      print(f\"Phone number of {name} is inserted into the phonebook\\n\")\n",
        "    else:\n",
        "      print(\"Invalid input format, cancelling operation ...\\n\")  \n",
        "  elif opt == \"3\":\n",
        "    name = input(\"Whom to delete from phonebook : \").title()\n",
        "    if name in ph_book:\n",
        "      del ph_book[name]\n",
        "      print(f\"{name} is deleted from the phonebook\\n\")  \n",
        "  elif opt == \"4\":\n",
        "    print(\"Exiting Phonebook\")\n",
        "    break\n",
        "  else:\n",
        "    print(\"Not Valid Operation !!!\\n\")"
      ]
    }
  ]
}