{
  "nbformat": 4,
  "nbformat_minor": 0,
  "metadata": {
    "colab": {
      "name": "consecutive_vowels.ipynb",
      "provenance": [],
      "authorship_tag": "ABX9TyNdtZ3+S20ABjdCFOMJXGwE",
      "include_colab_link": true
    },
    "kernelspec": {
      "name": "python3",
      "display_name": "Python 3"
    },
    "language_info": {
      "name": "python"
    }
  },
  "cells": [
    {
      "cell_type": "markdown",
      "metadata": {
        "id": "view-in-github",
        "colab_type": "text"
      },
      "source": [
        "<a href=\"https://colab.research.google.com/github/ayse16/python/blob/main/consecutive_vowels.ipynb\" target=\"_parent\"><img src=\"https://colab.research.google.com/assets/colab-badge.svg\" alt=\"Open In Colab\"/></a>"
      ]
    },
    {
      "cell_type": "code",
      "execution_count": 36,
      "metadata": {
        "colab": {
          "base_uri": "https://localhost:8080/"
        },
        "id": "WEZ9WN-ZsMgq",
        "outputId": "047d0f85-98f3-4590-a8b4-cde6732db4b1"
      },
      "outputs": [
        {
          "name": "stdout",
          "output_type": "stream",
          "text": [
            "Please enter a string: saetqi\n"
          ]
        },
        {
          "output_type": "execute_result",
          "data": {
            "text/plain": [
              "True"
            ]
          },
          "metadata": {},
          "execution_count": 36
        }
      ],
      "source": [
        "def isConsecVow(s):\n",
        "  vowels = \"aeiou\"\n",
        "  for i in s:\n",
        "    if i in vowels:\n",
        "      if s.index(i) != len(s)-1 and s[(s.index(i))+1] in vowels:\n",
        "        return True\n",
        "  return False \n",
        "\n",
        "text = input(\"Please enter a string: \").lower()\n",
        "isConsecVow(text)"
      ]
    }
  ]
}