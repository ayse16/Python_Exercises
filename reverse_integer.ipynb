{
  "nbformat": 4,
  "nbformat_minor": 0,
  "metadata": {
    "colab": {
      "name": "reverse_integer.ipynb",
      "provenance": [],
      "collapsed_sections": []
    },
    "kernelspec": {
      "name": "python3",
      "display_name": "Python 3"
    },
    "language_info": {
      "name": "python"
    }
  },
  "cells": [
    {
      "cell_type": "markdown",
      "source": [
        "Given a signed 32-bit integer x, return x with its digits reversed. If reversing x causes the value to go outside the signed 32-bit integer range [-231, 231 - 1], then return 0.\n",
        "\n",
        "Assume the environment does not allow you to store 64-bit integers (signed or unsigned).\n",
        "\n",
        " \n",
        "\n",
        "Example 1:\n",
        "\n",
        "Input: x = 123\n",
        "Output: 321\n",
        "Example 2:\n",
        "\n",
        "Input: x = -123\n",
        "Output: -321\n",
        "Example 3:\n",
        "\n",
        "Input: x = 120\n",
        "Output: 21"
      ],
      "metadata": {
        "id": "ARjjzVOk5hzw"
      }
    },
    {
      "cell_type": "code",
      "source": [
        "def reverse(num):\n",
        "  new_num = int(str(abs(num))[::-1])\n",
        "  if new_num >= 2**31-1 or new_num <= -2**31:\n",
        "    return 0\n",
        "  return new_num if (num>0) else new_num*-1\n",
        "        \n",
        "my_num = int(input(\"\"))\n",
        "reverse(my_num) "
      ],
      "metadata": {
        "id": "Pv8ag3QKzVDX",
        "colab": {
          "base_uri": "https://localhost:8080/"
        },
        "outputId": "273019e6-1f3c-4fb1-d938-2225196a57b3"
      },
      "execution_count": 1,
      "outputs": [
        {
          "name": "stdout",
          "output_type": "stream",
          "text": [
            "-3456\n"
          ]
        },
        {
          "output_type": "execute_result",
          "data": {
            "text/plain": [
              "-6543"
            ]
          },
          "metadata": {},
          "execution_count": 1
        }
      ]
    },
    {
      "cell_type": "code",
      "source": [
        "#Alternative solution:\n",
        "def reverse1(num):\n",
        "  rev = 0\n",
        "  x = abs(num)\n",
        "  while (x != 0):\n",
        "    rev = rev * 10 + x % 10\n",
        "    x = x // 10\n",
        "  if rev >= 2**31-1 or rev <= -2**31:\n",
        "    return 0\n",
        "  return rev if (num>0) else rev*-1\n",
        "\n",
        "my_num = int(input(\"\"))\n",
        "reverse1(my_num)    "
      ],
      "metadata": {
        "colab": {
          "base_uri": "https://localhost:8080/"
        },
        "id": "5HXB2wgd5BRv",
        "outputId": "130ad2ff-217e-46f7-ba8a-dd822c98d67c"
      },
      "execution_count": 2,
      "outputs": [
        {
          "name": "stdout",
          "output_type": "stream",
          "text": [
            "4567\n"
          ]
        },
        {
          "output_type": "execute_result",
          "data": {
            "text/plain": [
              "7654"
            ]
          },
          "metadata": {},
          "execution_count": 2
        }
      ]
    }
  ]
}