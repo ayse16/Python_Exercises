{
  "nbformat": 4,
  "nbformat_minor": 0,
  "metadata": {
    "colab": {
      "name": "group_anagram.ipynb",
      "provenance": [],
      "authorship_tag": "ABX9TyN8XAbO/6sSRQD0fJzU4s64",
      "include_colab_link": true
    },
    "kernelspec": {
      "name": "python3",
      "display_name": "Python 3"
    },
    "language_info": {
      "name": "python"
    }
  },
  "cells": [
    {
      "cell_type": "markdown",
      "metadata": {
        "id": "view-in-github",
        "colab_type": "text"
      },
      "source": [
        "<a href=\"https://colab.research.google.com/github/ayse16/Python_Exercises/blob/main/group_anagram.ipynb\" target=\"_parent\"><img src=\"https://colab.research.google.com/assets/colab-badge.svg\" alt=\"Open In Colab\"/></a>"
      ]
    },
    {
      "cell_type": "markdown",
      "source": [
        "**Group Anagrams**\n",
        "\n",
        "**Title:**\n",
        "**Given an array of strings, you can combine words with different letters. Alphabetic words refer to strings with the same letters but arranged differently.**\n",
        "\n",
        "\n",
        "**Given an array of strings, group anagrams together.**\n",
        "\n",
        "\n",
        "**Example:**\n",
        "\n",
        "**Input: [\"eat\", \"tea\", \"tan\", \"ate\", \"nat\", \"bat\"]**\n",
        "\n",
        "**Output:**\n",
        "\n",
        "**[\n",
        "\n",
        "  **[\"ate\",\"eat\",\"tea\"],**\n",
        "\n",
        "  **[\"nat\",\"tan\"],**\n",
        "\n",
        "  **[\"bat\"]**\n",
        "\n",
        "**]**\n",
        "\n",
        "**Explain:**\n",
        "\n",
        "**All inputs are lowercase.**\n",
        "**Do not consider the order of the answer output.**\n",
        "**Note:**\n",
        "\n",
        "**All inputs will be in lowercase.**\n",
        "**The order of your output does not matter.**"
      ],
      "metadata": {
        "id": "3VC-eV5zOceI"
      }
    },
    {
      "cell_type": "code",
      "source": [
        "input= [\"eat\", \"tea\", \"tan\", \"ate\", \"nat\", \"bat\"]\n",
        "dic = {}\n",
        "\n",
        "for i in input:\n",
        "  sorted_input = (\"\".join(sorted(i)))\n",
        "  if sorted_input in dic:\n",
        "    dic[sorted_input].append(i)\n",
        "  else:\n",
        "    dic[sorted_input] = [i] \n",
        "print(list(dic.values()))    "
      ],
      "metadata": {
        "colab": {
          "base_uri": "https://localhost:8080/"
        },
        "id": "Em6ZlcSROgo8",
        "outputId": "c1c7b7bb-257b-47da-e22a-3956c4d81b05"
      },
      "execution_count": 12,
      "outputs": [
        {
          "output_type": "stream",
          "name": "stdout",
          "text": [
            "[['eat', 'tea', 'ate'], ['tan', 'nat'], ['bat']]\n"
          ]
        }
      ]
    },
    {
      "cell_type": "code",
      "execution_count": null,
      "metadata": {
        "id": "6nTwwt0QL1hn"
      },
      "outputs": [],
      "source": [
        ""
      ]
    }
  ]
}