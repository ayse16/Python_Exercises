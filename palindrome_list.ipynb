{
  "nbformat": 4,
  "nbformat_minor": 0,
  "metadata": {
    "colab": {
      "name": "palindrome_list.ipynb",
      "provenance": [],
      "authorship_tag": "ABX9TyNI0RFYjwM40VehBqEdk84t",
      "include_colab_link": true
    },
    "kernelspec": {
      "name": "python3",
      "display_name": "Python 3"
    },
    "language_info": {
      "name": "python"
    }
  },
  "cells": [
    {
      "cell_type": "markdown",
      "metadata": {
        "id": "view-in-github",
        "colab_type": "text"
      },
      "source": [
        "<a href=\"https://colab.research.google.com/github/ayse16/python/blob/main/palindrome_list.ipynb\" target=\"_parent\"><img src=\"https://colab.research.google.com/assets/colab-badge.svg\" alt=\"Open In Colab\"/></a>"
      ]
    },
    {
      "cell_type": "code",
      "execution_count": 15,
      "metadata": {
        "colab": {
          "base_uri": "https://localhost:8080/"
        },
        "id": "vh1M7aCO5Rev",
        "outputId": "245463fd-3c55-4d77-fc9b-bfa59e7b2d18"
      },
      "outputs": [
        {
          "output_type": "execute_result",
          "data": {
            "text/plain": [
              "True"
            ]
          },
          "metadata": {},
          "execution_count": 15
        }
      ],
      "source": [
        "def isPalindrome(li):\n",
        "  x = 0\n",
        "  y = len(li)-1\n",
        "  for i in range(0, len(li)//2):\n",
        "    if li[x] != li[y]:\n",
        "      return False\n",
        "    x+=1\n",
        "    y-=1  \n",
        "  return True\n",
        "\n",
        "isPalindrome([1,2,2,1])"
      ]
    },
    {
      "cell_type": "code",
      "source": [
        "def isPalindrome(li):\n",
        "  if li == li[::-1]:\n",
        "    return True\n",
        "  return False  \n",
        "\n",
        "isPalindrome([1,2])"
      ],
      "metadata": {
        "colab": {
          "base_uri": "https://localhost:8080/"
        },
        "id": "hb_zx8o78DnL",
        "outputId": "0149e8d9-4966-47f6-90dc-5b7eff2a2dea"
      },
      "execution_count": 16,
      "outputs": [
        {
          "output_type": "execute_result",
          "data": {
            "text/plain": [
              "False"
            ]
          },
          "metadata": {},
          "execution_count": 16
        }
      ]
    }
  ]
}