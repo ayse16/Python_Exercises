{
  "nbformat": 4,
  "nbformat_minor": 0,
  "metadata": {
    "colab": {
      "name": "generatepassword.ipynb",
      "provenance": [],
      "authorship_tag": "ABX9TyN/syMSpxqRaPvc4alLEqW/",
      "include_colab_link": true
    },
    "kernelspec": {
      "name": "python3",
      "display_name": "Python 3"
    },
    "language_info": {
      "name": "python"
    }
  },
  "cells": [
    {
      "cell_type": "markdown",
      "metadata": {
        "id": "view-in-github",
        "colab_type": "text"
      },
      "source": [
        "<a href=\"https://colab.research.google.com/github/ayse16/python/blob/main/generatepassword.ipynb\" target=\"_parent\"><img src=\"https://colab.research.google.com/assets/colab-badge.svg\" alt=\"Open In Colab\"/></a>"
      ]
    },
    {
      "cell_type": "code",
      "execution_count": 1,
      "metadata": {
        "colab": {
          "base_uri": "https://localhost:8080/"
        },
        "id": "4QfOzQ1AWYLD",
        "outputId": "15e0e09f-f10a-4d8b-ec3c-56f964d63ea6"
      },
      "outputs": [
        {
          "output_type": "stream",
          "name": "stdout",
          "text": [
            "Please enter your full name(without any spaces): AhmetAslan\n",
            "alh0778\n"
          ]
        }
      ],
      "source": [
        "import random\n",
        "\n",
        "name = input(\"Please enter your full name(without any spaces): \") \n",
        "rand_chr = \"\".join((random.choice(name.lower()) for i in range(3)))\n",
        "rand_num = \"\".join((random.choice(\"0123456789\") for i in range(4)))\n",
        "password = rand_chr + rand_num\n",
        "print(password)\n"
      ]
    },
    {
      "cell_type": "code",
      "source": [
        "import random\n",
        "import string\n",
        "\n",
        "name = input(\"Please enter your full name(without any spaces): \") \n",
        "rand_chr = \"\".join((random.choice(name.lower()) for i in range(3)))\n",
        "rand_num = \"\".join((random.choice(string.digits) for i in range(4)))\n",
        "password = rand_chr + rand_num\n",
        "print(password)\n",
        "\n"
      ],
      "metadata": {
        "colab": {
          "base_uri": "https://localhost:8080/"
        },
        "id": "qftkZjtsaJMy",
        "outputId": "b3e3c633-1dd0-4cb6-9f41-a8a7f1edc3af"
      },
      "execution_count": 2,
      "outputs": [
        {
          "output_type": "stream",
          "name": "stdout",
          "text": [
            "Please enter your full name(without any spaces): OmerMirza\n",
            "rrr2554\n"
          ]
        }
      ]
    }
  ]
}