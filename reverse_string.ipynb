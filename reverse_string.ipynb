{
  "nbformat": 4,
  "nbformat_minor": 0,
  "metadata": {
    "colab": {
      "name": "reverse_string.ipynb",
      "provenance": [],
      "authorship_tag": "ABX9TyNId/ZunG9NjTJT7sTRY2r1",
      "include_colab_link": true
    },
    "kernelspec": {
      "name": "python3",
      "display_name": "Python 3"
    },
    "language_info": {
      "name": "python"
    }
  },
  "cells": [
    {
      "cell_type": "markdown",
      "metadata": {
        "id": "view-in-github",
        "colab_type": "text"
      },
      "source": [
        "<a href=\"https://colab.research.google.com/github/ayse16/Python_Exercises/blob/main/reverse_string.ipynb\" target=\"_parent\"><img src=\"https://colab.research.google.com/assets/colab-badge.svg\" alt=\"Open In Colab\"/></a>"
      ]
    },
    {
      "cell_type": "markdown",
      "source": [
        "Write a function that reverses a string. The input string is given as an array of characters s.\n",
        "\n",
        "You must do this by modifying the input array in-place with O(1) extra memory.\n",
        "\n"
      ],
      "metadata": {
        "id": "s28Ia9DsHxBH"
      }
    },
    {
      "cell_type": "code",
      "source": [
        "def reverseString(s):\n",
        "  s[:] = s[::-1]\n",
        "  return s\n",
        "reverseString([\"a\",\"y\",\"s\",\"e\"])  "
      ],
      "metadata": {
        "colab": {
          "base_uri": "https://localhost:8080/"
        },
        "id": "DnoLFTnlH3Mf",
        "outputId": "af9b36ae-13ef-421c-fa2e-40c34b6e59ca"
      },
      "execution_count": 2,
      "outputs": [
        {
          "output_type": "execute_result",
          "data": {
            "text/plain": [
              "['e', 's', 'y', 'a']"
            ]
          },
          "metadata": {},
          "execution_count": 2
        }
      ]
    },
    {
      "cell_type": "code",
      "source": [
        "def reverseString1(s):\n",
        "  l, r = 0, len(s)-1\n",
        "  while l < r:\n",
        "    s[l], s[r] = s[r], s[l]\n",
        "    l+=1\n",
        "    r-=1\n",
        "  return s\n",
        "reverseString1([\"H\",\"a\",\"n\",\"n\",\"a\",\"h\"])"
      ],
      "metadata": {
        "colab": {
          "base_uri": "https://localhost:8080/"
        },
        "id": "TKA5sGvTIYCi",
        "outputId": "d84ab045-38a4-4f9f-806c-87deac548188"
      },
      "execution_count": 6,
      "outputs": [
        {
          "output_type": "execute_result",
          "data": {
            "text/plain": [
              "['h', 'a', 'n', 'n', 'a', 'H']"
            ]
          },
          "metadata": {},
          "execution_count": 6
        }
      ]
    },
    {
      "cell_type": "code",
      "source": [
        "def reverseString2(s):\n",
        "  mid = len(s)//2\n",
        "  for i in range(1, mid + 1, 1):\n",
        "    s[i-1], s[-i] = s[-i], s[i-1]\n",
        "  return s  \n",
        "reverseString2([\"H\",\"e\",\"l\",\"l\",\"o\"])"
      ],
      "metadata": {
        "colab": {
          "base_uri": "https://localhost:8080/"
        },
        "id": "yA4uo4SeJOg4",
        "outputId": "ad76a180-a099-4343-c8ef-50d7ebbdc762"
      },
      "execution_count": 8,
      "outputs": [
        {
          "output_type": "execute_result",
          "data": {
            "text/plain": [
              "['o', 'l', 'l', 'e', 'H']"
            ]
          },
          "metadata": {},
          "execution_count": 8
        }
      ]
    },
    {
      "cell_type": "code",
      "source": [
        "def reverseString3(s):\n",
        "  s.reverse()\n",
        "  return s\n",
        "reverseString3([\"H\",\"e\",\"l\",\"l\",\"o\"])  "
      ],
      "metadata": {
        "colab": {
          "base_uri": "https://localhost:8080/"
        },
        "id": "eHfHHSpPKNMb",
        "outputId": "ec66134d-95a6-4182-fb85-40022b084aef"
      },
      "execution_count": 7,
      "outputs": [
        {
          "output_type": "execute_result",
          "data": {
            "text/plain": [
              "['o', 'l', 'l', 'e', 'H']"
            ]
          },
          "metadata": {},
          "execution_count": 7
        }
      ]
    }
  ]
}