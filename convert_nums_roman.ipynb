{
  "nbformat": 4,
  "nbformat_minor": 0,
  "metadata": {
    "colab": {
      "name": "convert_nums_roman.ipynb",
      "provenance": [],
      "collapsed_sections": [],
      "authorship_tag": "ABX9TyMWUZUYCA7QtA/DtavFESNB",
      "include_colab_link": true
    },
    "kernelspec": {
      "name": "python3",
      "display_name": "Python 3"
    },
    "language_info": {
      "name": "python"
    }
  },
  "cells": [
    {
      "cell_type": "markdown",
      "metadata": {
        "id": "view-in-github",
        "colab_type": "text"
      },
      "source": [
        "<a href=\"https://colab.research.google.com/github/ayse16/Python_Exercises/blob/main/convert_nums_roman.ipynb\" target=\"_parent\"><img src=\"https://colab.research.google.com/assets/colab-badge.svg\" alt=\"Open In Colab\"/></a>"
      ]
    },
    {
      "cell_type": "code",
      "source": [
        "def converter(num):\n",
        "  dic = {0:\"\", 1:\"I\", 2:\"II\", 3:\"III\", 4:\"IV\", 5:\"V\", 6:\"VI\", 7:\"VII\", 8:\"VIII\", 9:\"IX\", \n",
        "       10:\"X\", 20:\"XX\", 30:\"XXX\", 40:\"XL\", 50:\"L\", 60:\"LX\", 70:\"LXX\", 80:\"LXXX\", 90:\"XC\", \n",
        "       100:\"C\", 200:\"CC\", 300:\"CCC\", 400:\"CD\", 500:\"D\", 600:\"DC\", 700:\"DCC\", 800:\"DCCC\", 900:\"CM\", 1000:\"M\", 2000:\"MM\", 3000:\"MMM\"}\n",
        "  res = \"\"\n",
        "  size = len(num)\n",
        "  cnt = 0\n",
        "  temp = 0\n",
        "  pos = size -1\n",
        "  while cnt<=size-1:\n",
        "    temp = int(num[cnt]) * 10**pos\n",
        "    res+= dic[temp]\n",
        "    cnt+= 1\n",
        "    pos-= 1\n",
        "  return(res)\n",
        "while True:\n",
        "  ex = input(\"\"\"To exit the program, please type \"exit\" \"\"\")\n",
        "  if ex.lower() == \"exit\":\n",
        "    print(\"Exiting the program... Good Bye\")\n",
        "    break\n",
        "  number = input(\"Please enter a number between 1 and 3999, inclusively : \")\n",
        "\n",
        "  if number.isnumeric() and int(number)>0 and int(number)<= 3999:\n",
        "    print(converter(number))\n",
        "  else:\n",
        "    print(\"Not Valid Input !!!\")\n",
        "\n",
        "\n"
      ],
      "metadata": {
        "colab": {
          "base_uri": "https://localhost:8080/"
        },
        "id": "9jz2ok6rUjii",
        "outputId": "52f3a005-451b-45d0-c3ba-1ea3ea97d063"
      },
      "execution_count": 1,
      "outputs": [
        {
          "output_type": "stream",
          "name": "stdout",
          "text": [
            "To exit the program, please type \"exit\" no\n",
            "Please enter a number between 1 and 3999, inclusively : 1904\n",
            "MCMIV\n",
            "To exit the program, please type \"exit\" exit\n",
            "Exiting the program... Good Bye\n"
          ]
        }
      ]
    }
  ]
}