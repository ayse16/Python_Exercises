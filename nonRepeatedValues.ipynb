{
  "nbformat": 4,
  "nbformat_minor": 0,
  "metadata": {
    "colab": {
      "name": "nonRepeatedValues.ipynb",
      "provenance": [],
      "authorship_tag": "ABX9TyPfqOdwcvNJSZ6O+4BNu8iT",
      "include_colab_link": true
    },
    "kernelspec": {
      "name": "python3",
      "display_name": "Python 3"
    },
    "language_info": {
      "name": "python"
    }
  },
  "cells": [
    {
      "cell_type": "markdown",
      "metadata": {
        "id": "view-in-github",
        "colab_type": "text"
      },
      "source": [
        "<a href=\"https://colab.research.google.com/github/ayse16/python/blob/main/nonRepeatedValues.ipynb\" target=\"_parent\"><img src=\"https://colab.research.google.com/assets/colab-badge.svg\" alt=\"Open In Colab\"/></a>"
      ]
    },
    {
      "cell_type": "code",
      "execution_count": 7,
      "metadata": {
        "colab": {
          "base_uri": "https://localhost:8080/"
        },
        "id": "PK0SzqULv_wU",
        "outputId": "577c2bdf-7e6a-4222-8918-a70dcc308a08"
      },
      "outputs": [
        {
          "output_type": "stream",
          "name": "stdout",
          "text": [
            "To Kill a Mockingbird\n",
            "In Cold Blood\n",
            "Wide Sargasso Sea\n",
            "I Capture The Castle\n"
          ]
        }
      ],
      "source": [
        "products = [\"Pride and Prejudice\", \"To Kill a Mockingbird\", \"The Great Gatsby\",\\\n",
        "            \"One Hundred Years of Solitude\", \"Pride and Prejudice\", \"In Cold Blood\", \"Wide Sargasso Sea\",\\\n",
        "            \"One Hundred Years of Solitude\", \"Brave New World\",  \"The Great Gatsby\", \"Brave New World\",\\\n",
        "            \"I Capture The Castle\", \"Brave New World\", \"The Great Gatsby\", \"The Great Gatsby\",\\\n",
        "            \"One Hundred Years of Solitude\", \"Pride and Prejudice\"]\n",
        "dic = {}\n",
        "for i in products:\n",
        "  if i in dic:\n",
        "    dic[i]+=1\n",
        "  else:\n",
        "    dic[i]=1\n",
        "#print(dic)    \n",
        "for i in dic:\n",
        "  if dic[i] == 1:\n",
        "    print(i)"
      ]
    }
  ]
}