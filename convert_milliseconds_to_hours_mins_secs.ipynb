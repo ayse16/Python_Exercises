{
  "nbformat": 4,
  "nbformat_minor": 0,
  "metadata": {
    "colab": {
      "name": "convert_milliseconds-to-hours-mins-secs.ipynb",
      "provenance": [],
      "authorship_tag": "ABX9TyPjfuTH8zyzX1zH8KWkCKrg",
      "include_colab_link": true
    },
    "kernelspec": {
      "name": "python3",
      "display_name": "Python 3"
    },
    "language_info": {
      "name": "python"
    }
  },
  "cells": [
    {
      "cell_type": "markdown",
      "metadata": {
        "id": "view-in-github",
        "colab_type": "text"
      },
      "source": [
        "<a href=\"https://colab.research.google.com/github/ayse16/Python_Exercises/blob/main/convert_milliseconds_to_hours_mins_secs.ipynb\" target=\"_parent\"><img src=\"https://colab.research.google.com/assets/colab-badge.svg\" alt=\"Open In Colab\"/></a>"
      ]
    },
    {
      "cell_type": "code",
      "source": [
        "def converter(num):\n",
        "  output = \"\"\n",
        "  if int(num) < 1000:\n",
        "    output = \"just \" + num + \" millisecond/s\"\n",
        "\n",
        "  hour = int(num)//3600000\n",
        "  hour_extra = int(num)%3600000\n",
        "  minute = hour_extra//60000\n",
        "  minute_extra = hour_extra%60000\n",
        "  second = minute_extra//1000\n",
        "  \n",
        "  if hour > 0:\n",
        "    output = str(hour) + \" hour/s \"\n",
        "  if minute > 0:\n",
        "    output = output + str(minute) + \" minute/s \"\n",
        "  if second > 0:\n",
        "    output = output + str(second) + \" second/s \"\n",
        "  return output\n",
        "\n",
        "while True:\n",
        "  number = input(\"Please enter the milliseconds that should be greater than zero: \")\n",
        "  if number.isnumeric() and int(number)>0 :\n",
        "    print(converter(number))\n",
        "  else:\n",
        "    print(\"Not Valid Input !!!\")\n",
        "  ex = input(\"\"\"To exit the program, please type \"exit\" \"\"\")\n",
        "  if ex.lower() == \"exit\":\n",
        "    print(\"Exiting the program... Good Bye\")\n",
        "    break  "
      ],
      "metadata": {
        "colab": {
          "base_uri": "https://localhost:8080/"
        },
        "id": "lCXbIXLkUMKm",
        "outputId": "8798b514-5696-4504-d8d5-89ab80355393"
      },
      "execution_count": 18,
      "outputs": [
        {
          "output_type": "stream",
          "name": "stdout",
          "text": [
            "Please enter the milliseconds that should be greater than zero: 555\n",
            "just 555 millisecond/s\n",
            "To exit the program, please type \"exit\" no\n",
            "Please enter the milliseconds that should be greater than zero: 7322011\n",
            "2 hour/s 2 minute/s 2 second/s \n",
            "To exit the program, please type \"exit\" no\n",
            "Please enter the milliseconds that should be greater than zero: ayse\n",
            "Not Valid Input !!!\n",
            "To exit the program, please type \"exit\" no\n",
            "Please enter the milliseconds that should be greater than zero: 3661011\n",
            "1 hour/s 1 minute/s 1 second/s \n",
            "To exit the program, please type \"exit\" no\n",
            "Please enter the milliseconds that should be greater than zero: 6000\n",
            "6 second/s \n",
            "To exit the program, please type \"exit\" exit\n",
            "Exiting the program... Good Bye\n"
          ]
        }
      ]
    },
    {
      "cell_type": "code",
      "source": [
        "# Input             Output\n",
        "# (milliseconds)    (Calculated Time) \n",
        "# --------------    -----------------\n",
        "# 555               just 555 millisecond/s\n",
        "# 2001              2 second/s\n",
        "# 60011             1 minute/s\n",
        "# 122011            2 minute/s 2 second/s\n",
        "# 3661011           1 hour/s 1 minute/s 1 second/s\n",
        "# 7200011           2 hour/s\n",
        "# 7322011           2 hour/s 2 minute/s 2 second/s\n",
        "# -8                \"Not Valid Input !!!\"\n",
        "# Ten               \"Not Valid Input !!!\"\n",
        "# Exit              \"Exiting the program... Good Bye\"\n",
        "# ```"
      ],
      "metadata": {
        "id": "98wJ5GLeUL8B"
      },
      "execution_count": null,
      "outputs": []
    }
  ]
}