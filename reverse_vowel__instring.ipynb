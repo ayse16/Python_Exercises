{
  "nbformat": 4,
  "nbformat_minor": 0,
  "metadata": {
    "colab": {
      "name": "reverse_vowel._instring.ipynb",
      "provenance": [],
      "authorship_tag": "ABX9TyN+StNrYjcRLcLArZnkuja/",
      "include_colab_link": true
    },
    "kernelspec": {
      "name": "python3",
      "display_name": "Python 3"
    },
    "language_info": {
      "name": "python"
    }
  },
  "cells": [
    {
      "cell_type": "markdown",
      "metadata": {
        "id": "view-in-github",
        "colab_type": "text"
      },
      "source": [
        "<a href=\"https://colab.research.google.com/github/ayse16/Python_Exercises/blob/main/reverse_vowel__instring.ipynb\" target=\"_parent\"><img src=\"https://colab.research.google.com/assets/colab-badge.svg\" alt=\"Open In Colab\"/></a>"
      ]
    },
    {
      "cell_type": "markdown",
      "source": [
        "                  Reverse Vowels of a String\n",
        "                  \n",
        "Given a string s, reverse only all the vowels in the string and return it.\n",
        "\n",
        "The vowels are 'a', 'e', 'i', 'o', and 'u', and they can appear in both cases.\n",
        "\n",
        " \n",
        "\n",
        "Example 1:\n",
        "\n",
        "Input: s = \"hello\"\n",
        "\n",
        "Output: \"holle\"\n",
        "\n",
        "Example 2:\n",
        "\n",
        "Input: s = \"leetcode\"\n",
        "\n",
        "Output: \"leotcede\""
      ],
      "metadata": {
        "id": "6XD9n3LgYD7b"
      }
    },
    {
      "cell_type": "code",
      "source": [
        "s = \"hello\"\n",
        "vowels = \"AEIOUaeiou\"\n",
        "s_vowels = []\n",
        "new_s = \"\"\n",
        "\n",
        "# find vowels in string\n",
        "for i in s:\n",
        "  if i in vowels:\n",
        "    s_vowels.append(i)\n",
        "\n",
        "# reverse all the vowels in string\n",
        "for i in s:\n",
        "  if i in vowels:\n",
        "    new_s+= s_vowels.pop() \n",
        "  else:\n",
        "    new_s+= i  \n",
        "print(new_s)    \n"
      ],
      "metadata": {
        "colab": {
          "base_uri": "https://localhost:8080/"
        },
        "id": "71eqnVtWYG_x",
        "outputId": "a6827599-d168-4972-c67d-f156f6f4fac2"
      },
      "execution_count": 20,
      "outputs": [
        {
          "output_type": "stream",
          "name": "stdout",
          "text": [
            "holle\n"
          ]
        }
      ]
    },
    {
      "cell_type": "code",
      "source": [
        "#list comprehension\n",
        "s = \"leetcode\"\n",
        "vowels = \"AEIOUaeiou\"\n",
        "s_vowels = [i for i in s if i in vowels]\n",
        "\n",
        "new_s =\"\".join([s_vowels.pop()if i in vowels else i for i in s])\n",
        "print(new_s)\n"
      ],
      "metadata": {
        "colab": {
          "base_uri": "https://localhost:8080/"
        },
        "id": "J--U7XEerO3C",
        "outputId": "6cef80fc-748e-43e2-a1cc-1d3931b36eba"
      },
      "execution_count": 12,
      "outputs": [
        {
          "output_type": "stream",
          "name": "stdout",
          "text": [
            "leotcede\n"
          ]
        }
      ]
    },
    {
      "cell_type": "code",
      "source": [
        "#more efficent solution \n",
        "s= \"leetcode\"\n",
        "vowels = set(list('aeiouAEIOU'))\n",
        "s = list(s)\n",
        "left, right = 0, len(s) - 1\n",
        "        \n",
        "while left < right:\n",
        "  if s[left] not in vowels:\n",
        "    left += 1\n",
        "  elif s[right] not in vowels:\n",
        "    right -= 1\n",
        "  else:\n",
        "    s[left], s[right] = s[right], s[left]\n",
        "    left += 1\n",
        "    right -= 1\n",
        "print(''.join(s))"
      ],
      "metadata": {
        "colab": {
          "base_uri": "https://localhost:8080/"
        },
        "id": "IawAvm5Xumw9",
        "outputId": "c1bc30fa-cd89-4ee2-cce5-a7ec94ae5b2a"
      },
      "execution_count": 15,
      "outputs": [
        {
          "output_type": "stream",
          "name": "stdout",
          "text": [
            "leotcede\n"
          ]
        }
      ]
    }
  ]
}