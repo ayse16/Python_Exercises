{
  "nbformat": 4,
  "nbformat_minor": 0,
  "metadata": {
    "colab": {
      "name": "palindrome_number",
      "provenance": [],
      "collapsed_sections": [],
      "authorship_tag": "ABX9TyNTlhM42WnkASl0QwOi0jii",
      "include_colab_link": true
    },
    "kernelspec": {
      "name": "python3",
      "display_name": "Python 3"
    },
    "language_info": {
      "name": "python"
    }
  },
  "cells": [
    {
      "cell_type": "markdown",
      "metadata": {
        "id": "view-in-github",
        "colab_type": "text"
      },
      "source": [
        "<a href=\"https://colab.research.google.com/github/ayse16/Python_Exercises/blob/main/palindrome_number.ipynb\" target=\"_parent\"><img src=\"https://colab.research.google.com/assets/colab-badge.svg\" alt=\"Open In Colab\"/></a>"
      ]
    },
    {
      "cell_type": "markdown",
      "source": [
        "Given an integer x, return true if x is palindrome integer.\n",
        "\n",
        "An integer is a palindrome when it reads the same backward as forward.\n",
        "\n",
        "For example, 121 is a palindrome while 123 is not.\n",
        "\n",
        "Input: x = -121\n",
        "Output: false\n",
        "Explanation: From left to right, it reads -121. From right to left, it becomes 121-. Therefore it is not a palindrome."
      ],
      "metadata": {
        "id": "oiDrNDEPNi8Y"
      }
    },
    {
      "cell_type": "code",
      "source": [
        "def isPalindrome(number):\n",
        "  return number == number[::-1]\n",
        "isPalindrome(input(\"Enter a number: \"))\n"
      ],
      "metadata": {
        "colab": {
          "base_uri": "https://localhost:8080/"
        },
        "id": "NNpE7DcjQ31r",
        "outputId": "47bd12e4-1958-4a1b-c019-e970a7c64031"
      },
      "execution_count": 12,
      "outputs": [
        {
          "name": "stdout",
          "output_type": "stream",
          "text": [
            "Enter a number: -222\n"
          ]
        },
        {
          "output_type": "execute_result",
          "data": {
            "text/plain": [
              "False"
            ]
          },
          "metadata": {},
          "execution_count": 12
        }
      ]
    },
    {
      "cell_type": "code",
      "source": [
        "def isPalindrome(number):\n",
        "  if number == number[::-1]:\n",
        "    return True\n",
        "  else:\n",
        "    return False  \n",
        "\n",
        "isPalindrome(input(\"Enter a number: \"))\n"
      ],
      "metadata": {
        "colab": {
          "base_uri": "https://localhost:8080/"
        },
        "id": "LIo9Oe90N3ag",
        "outputId": "2cc4e78e-a059-48a3-b315-ef1a66df9b2b"
      },
      "execution_count": 10,
      "outputs": [
        {
          "name": "stdout",
          "output_type": "stream",
          "text": [
            "Enter a number: 123\n"
          ]
        },
        {
          "output_type": "execute_result",
          "data": {
            "text/plain": [
              "False"
            ]
          },
          "metadata": {},
          "execution_count": 10
        }
      ]
    }
  ]
}